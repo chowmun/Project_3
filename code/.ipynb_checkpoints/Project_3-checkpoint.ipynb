{
 "cells": [
  {
   "cell_type": "markdown",
   "metadata": {},
   "source": [
    "### Problem Statements\n",
    "1. Reddit posts are extremely large, it is near to impossible to sort all the posts manually.\n",
    "2. How to utilise machine learning ability(NLP) to organise the posts into a logical acceptable way. "
   ]
  },
  {
   "cell_type": "markdown",
   "metadata": {},
   "source": [
    "### In this section we will carry out:\n",
    "[A. API Scrapping](#A.API-Scrapping) <br>\n",
    "[B. Data Cleaning](#B.Data-Cleaning) <br>\n",
    "[C. Modeling](#C.Modeling) <br>\n",
    "[D. Model Evaluation](#D.Model-Evaluation) <br>\n",
    "[E. Conclusion and Recommendation](#E.Conclusion-and-Recommendation)\n"
   ]
  },
  {
   "cell_type": "code",
   "execution_count": 1,
   "metadata": {},
   "outputs": [],
   "source": [
    "import requests\n",
    "import pandas as pd\n",
    "import numpy as np\n",
    "import matplotlib.pyplot as plt\n",
    "import seaborn as sns\n",
    "import time\n",
    "import random\n",
    "import regex as re\n",
    "from sklearn import metrics\n",
    "from sklearn.pipeline import Pipeline\n",
    "from sklearn.linear_model import LogisticRegression\n",
    "from sklearn.feature_extraction.text import CountVectorizer\n",
    "from sklearn.model_selection import GridSearchCV, train_test_split, cross_val_score\n",
    "from sklearn.metrics import confusion_matrix, classification_report\n",
    "from sklearn.naive_bayes import MultinomialNB\n",
    "from nltk.stem import WordNetLemmatizer\n",
    "from nltk.corpus import stopwords"
   ]
  },
  {
   "cell_type": "markdown",
   "metadata": {},
   "source": [
    "## A.API Scrapping "
   ]
  },
  {
   "cell_type": "code",
   "execution_count": 2,
   "metadata": {},
   "outputs": [],
   "source": [
    "#prepare the reddit title that we are intrested in\n",
    "url_1 = 'https://www.reddit.com/r/marvel.json'  \n",
    "url_2 = 'https://www.reddit.com/r/dccomics.json'  "
   ]
  },
  {
   "cell_type": "code",
   "execution_count": 3,
   "metadata": {},
   "outputs": [],
   "source": [
    "#create a function to capture posts\n",
    "def get_post(url, csv_name):\n",
    "\n",
    "    posts = []\n",
    "    after = None\n",
    "\n",
    "    for a in range(35):\n",
    "        if after == None:\n",
    "            current_url = url\n",
    "        else:\n",
    "            current_url = url + '?after=' + after\n",
    "        print(current_url)\n",
    "        res = requests.get(current_url, headers={'User-agent': 'Data Inc'})\n",
    "    \n",
    "#if unable to access reddit, print the error and 'after' so we know where should we continue from\n",
    "        if res.status_code != 200:\n",
    "            print('Status error', res.status_code)\n",
    "            print(after)\n",
    "            break\n",
    "    \n",
    "        current_dict = res.json()\n",
    "        current_posts = [p['data'] for p in current_dict['data']['children']]\n",
    "        posts.extend(current_posts)\n",
    "        after = current_dict['data']['after']\n",
    "    \n",
    "        if a > 0:\n",
    "#read the previous posts, concat it with the current posts and save \n",
    "            prev_posts = pd.read_csv(csv_name)\n",
    "            current_df = pd.DataFrame(current_posts) \n",
    "            current_df = pd.concat([prev_posts, current_df])\n",
    "            pd.DataFrame(current_df).to_csv(csv_name, index = False)\n",
    "        \n",
    "        else:\n",
    "            pd.DataFrame(posts).to_csv(csv_name, index = False)\n",
    "\n",
    "# generate a random sleep duration to look more 'natural'\n",
    "        sleep_duration = random.randint(2,10)\n",
    "        time.sleep(sleep_duration)"
   ]
  },
  {
   "cell_type": "code",
   "execution_count": 4,
   "metadata": {},
   "outputs": [],
   "source": [
    "#get posts for marvel\n",
    "#get_post(url_1, '../datasets/marvel.csv')"
   ]
  },
  {
   "cell_type": "code",
   "execution_count": 5,
   "metadata": {},
   "outputs": [
    {
     "data": {
      "text/plain": [
       "876"
      ]
     },
     "execution_count": 5,
     "metadata": {},
     "output_type": "execute_result"
    }
   ],
   "source": [
    "marvel = pd.read_csv('../datasets/marvel.csv')\n",
    "\n",
    "#carry out this step to remove any duplicate\n",
    "marvel.drop_duplicates(subset='title', keep='first', inplace=True)\n",
    "len(marvel)"
   ]
  },
  {
   "cell_type": "code",
   "execution_count": 6,
   "metadata": {},
   "outputs": [],
   "source": [
    "#get posts for DCcomics\n",
    "#get_post(url_2, '../datasets/dc.csv')"
   ]
  },
  {
   "cell_type": "code",
   "execution_count": 7,
   "metadata": {},
   "outputs": [],
   "source": [
    "dc = pd.read_csv('../datasets/dc.csv')"
   ]
  },
  {
   "cell_type": "code",
   "execution_count": 8,
   "metadata": {},
   "outputs": [
    {
     "data": {
      "text/plain": [
       "873"
      ]
     },
     "execution_count": 8,
     "metadata": {},
     "output_type": "execute_result"
    }
   ],
   "source": [
    "#carry out this step to remove any duplicate\n",
    "dc.drop_duplicates(subset='title', keep='first', inplace=True)\n",
    "\n",
    "len(dc)"
   ]
  },
  {
   "cell_type": "code",
   "execution_count": 9,
   "metadata": {},
   "outputs": [
    {
     "data": {
      "text/plain": [
       "0"
      ]
     },
     "execution_count": 9,
     "metadata": {},
     "output_type": "execute_result"
    }
   ],
   "source": [
    "#combine both dataframe \n",
    "df = pd.concat([marvel,dc])\n",
    "\n",
    "#check for na in 'title' and 'selftext'\n",
    "df['title'].isnull().sum()"
   ]
  },
  {
   "cell_type": "code",
   "execution_count": 10,
   "metadata": {},
   "outputs": [
    {
     "data": {
      "text/plain": [
       "1016"
      ]
     },
     "execution_count": 10,
     "metadata": {},
     "output_type": "execute_result"
    }
   ],
   "source": [
    "df['selftext'].isnull().sum()"
   ]
  },
  {
   "cell_type": "code",
   "execution_count": 11,
   "metadata": {},
   "outputs": [
    {
     "data": {
      "text/plain": [
       "count                                       1749\n",
       "unique                                      1748\n",
       "top       Top 5 Panels Of The Week - 6/5/19 none\n",
       "freq                                           2\n",
       "Name: content, dtype: object"
      ]
     },
     "execution_count": 11,
     "metadata": {},
     "output_type": "execute_result"
    }
   ],
   "source": [
    "#join the text from 'title' and 'selftext'\n",
    "#need to fill na with 'none' for 'selftext', else the operation cannot be done\n",
    "df['selftext'].fillna('none', inplace=True)\n",
    "\n",
    "df['content']=df['title'] +' '+ df['selftext']\n",
    "\n",
    "#checking \n",
    "df.content.describe()"
   ]
  },
  {
   "cell_type": "code",
   "execution_count": 12,
   "metadata": {},
   "outputs": [
    {
     "data": {
      "text/plain": [
       "0    1\n",
       "1    1\n",
       "2    1\n",
       "3    1\n",
       "4    1\n",
       "Name: subreddit, dtype: int64"
      ]
     },
     "execution_count": 12,
     "metadata": {},
     "output_type": "execute_result"
    }
   ],
   "source": [
    "#convert the target into binary result\n",
    "df['subreddit'].replace({'Marvel': 1, 'DCcomics': 0}, inplace=True)\n",
    "\n",
    "#checking \n",
    "df.subreddit.head()"
   ]
  },
  {
   "cell_type": "markdown",
   "metadata": {},
   "source": [
    "## B.Data Cleaning "
   ]
  },
  {
   "cell_type": "code",
   "execution_count": 13,
   "metadata": {},
   "outputs": [],
   "source": [
    "# Function to clean the data\n",
    "def text_to_words(content):\n",
    "    \n",
    "    # 1. keep only alphabets.\n",
    "    letters_only = re.sub(\"[^a-zA-Z]\", \" \", content)\n",
    "    \n",
    "    # 2. Convert to lower case, split into individual words.\n",
    "    words = letters_only.lower().split()\n",
    "    \n",
    "    # 3. Add on own words to stop words and convert them to a set for a faster search\n",
    "    my_stops = stopwords.words('english')\n",
    "    my_stops.extend(['none','\\n', 'www', 'reddit', 'com', 'comment', 'http'])\n",
    "    my_stops = set(my_stops)\n",
    "    \n",
    "    # 4. Remove stop words.\n",
    "    meaningful_words = [w for w in words if not w in my_stops]\n",
    "    \n",
    "    # 5. lemmatizer the words.\n",
    "    lemmatizer = WordNetLemmatizer()\n",
    "    tokens_lem = [lemmatizer.lemmatize(i) for i in meaningful_words]\n",
    "    \n",
    "    # 6. Join the words back into one string separated by space, and return the result.\n",
    "    return(' '.join(tokens_lem))"
   ]
  },
  {
   "cell_type": "code",
   "execution_count": 14,
   "metadata": {},
   "outputs": [],
   "source": [
    "#call the function to clean df['content']\n",
    "clean_text=[]\n",
    "\n",
    "for text in df['content']:\n",
    "     # Convert text to words, then append to clean_text.\n",
    "    clean_text.append(text_to_words(text))"
   ]
  },
  {
   "cell_type": "code",
   "execution_count": 15,
   "metadata": {},
   "outputs": [
    {
     "data": {
      "text/plain": [
       "['marvel comic sale may following total number marvel comic book sold comic shop month may total number comic sold customer kinda thing tracked much comic success really indicated whether get second printing meaning essentially sold everywhere number ranking essence box office result comic industry data based information collected comichron http comichron monthlycomicssales html rank series issue release date copy sold savage avenger amazing spider man immortal hulk amazing spider man war realm immortal hulk war realm venom war realm new agent atlas star war galaxy edge amazing spider man hu symbiote spider man fantastic four avenger thor guardian galaxy uncanny x men uncanny x men star war star war age rebellion boba fett thanos star war spider man life story captain america star war age rebellion han solo mile morale spider man star war vader dark vision star war age rebellion jabba hutt daredevil conan barbarian daredevil major x cosmic ghost rider destroys marvel history friendly neighborhood spider man star war age rebellion lando calrissian tony stark iron man major x punisher dead man logan doctor strange immortal hulk reprint x men grand design x tinction deadpool war realm spider man amp league realm captain marvel savage sword conan wolverine infinity watch war realm strikeforce war avenger spider gwen ghost spider star war galaxy edge spider man city war war realm uncanny x men war realm strikeforce dark elf realm war realm spider man amp league realm war realm strikeforce land giant spider man deadpool superior spider man giant man asgardians galaxy star war tie fighter war realm journey mystery star war doctor aphra x black panther war realm journey mystery war realm new agent atlas x force war realm punisher x force champion war realm war scroll old man quill magnificent m marvel black widow giant man age conan belit marvel team major x reprint age x man marvelous x men domino hotshot wolverine long night adaptation age x man prisoner x age x man amazing nightcrawler invader mr mr x marvel comic present age x man nextgen age x man apocalypse x tract age x man x tremists shuri unbeatable squirrel girl ironheart moon girl devil dinosaur meet skrulls runaway unstoppable wasp marvel rising unstoppable wasp major x reprint war realm reprint previous result february http r marvel comment behp marvel comic box office result february march http redd bjcwj april http redd bqx yx true believer marvel tale issue excluded list',\n",
       " 'week comic june official discussion hub silver surfer black immortal hulk amazing spider man spider man life story venom missed last week thread may found http redd bwouxt following popular release last week june th captain marvel http r marvel comment bwouxt week comic june official epzeune uncanny x men http r marvel comment bwouxt week comic june official epzfbol black cat http r marvel comment bwouxt week comic june official epzetum war realm http r marvel comment bwouxt week comic june official epzfduc savage avenger http r marvel comment bwouxt week comic june official epzf oz meet skrulls http r marvel comment bwouxt week comic june official epzf guardian galaxy annual http r marvel comment bwouxt week comic june official epzf rf new marvel comic sure start whether completely new comic looking something great read head recommended reading page http r marvel wiki faq handy guide put together u tigertemprr looking quick guide current marvel comic check marvel fresh start relaunch schedule http redd ag pam release date marvel title releasing also war realm finally checklist april http terrigen cdn dev marvel content prod x wotr checklist april jpg may http terrigen cdn dev marvel content prod x wotr reading checklist jpg keep date tie in need check calendar release guide http r marvel comment bc wzo war realm complete release order checklist tie in releasing week include asgardians galaxy champion giant man superior spider man unbeatable squirrel girl venom popular demand rocket raccoon current character month read character http r marvel comment bz j c somewhere black hole sirius major stay tuned july character month nomination thread later month endgame discussion spoiler megathread international release http redd bgw h megathread thursday night preview http redd bhgnax megathread friday night http redd bhukbm megathread biggest opening weekend ever http redd bil endgame daily thursday thor http redd bk xq endgame daily friday captain america http redd bkbtot endgame daily saturday bruce banner hulk http redd bkq h endgame daily sunday tony stark iron man http redd bl endgame daily monday favorite scene http redd ble w note endgame spoiler ban lifted spoiler discussion permitted long included post title still seen movie warned leave sub come back want avoid spoiler dark phoenix discussion http r marvel comment bxz spoiler dark phoenix offical discussion new issue week age conan b lit http r marvel comment bzlwe week comic june official eqthmdc w tini howard kate niemczyk depth stygia b lit mad quest take new course sea monster hunting prove deeper connection future n yaga return since b lit last encountered plus next chapter new b lit novella bone whisper b lit learns truth behind mysterious king treasure age x man apocalypse amp x tract http r marvel comment bzlwe week comic june official eqthk w tim seeley salva espin age x man continues think stand america think genesis take field name apocalypse fight love friendship age x man marvelous x men http r marvel comment bzlwe week comic june official eqthi w zac thompson lonnie nadler marco failla age x man conclusion perfect idea idea nature fit reality x men seen truth perfect world world coming apart seam amazing spider man http r marvel comment bzlwe week comic june official eqthf u w nick spencer ryan ottley fallout hunted felt much peter life called question left spider man living harrowing hunt asgardians galaxy http r marvel comment bzlwe week comic june official eqth l w cullen bunn gerardo sandoval war realm tie angela v queen heven angela kidnapped birth stolen asgardian heritage raised outcast le heavenly heven year wandered universe neither true asgardian true angel chance repay debt queen stole away asgardians galaxy fight comrade midgard depth heven controlled africa champion http r marvel comment bzlwe week comic june official eqtgxvh w jim zub juanan ramirez war realm tie global team v global threat champion must hold line earth fall creature chaos even succeed young hero lose one friendly neighborhood spider man http r marvel comment bzlwe week comic june official eqtgu u w tom taylor ken lashley seen amazing spider man aunt may reopening f e center help homeless needy new york city thing rarely simple marvel universe f e new funding may secured try make dream reality attack prowler hobie brown returned criminal beginning spider man help bring back side angel giant man http r marvel comment bzlwe week comic june official eqtgnwf w leah williams marco castiello war realm tie bigger moonstone army primordial frost giant gaining number every passing moment ant man giant man goliath atlas stop unseen enemy get way guess identity mole immortal hulk http r marvel comment bzlwe week comic june official eqtghf w al ewing joe bennett something coming bruce banner something smell wherever hide something never stop hunting wear face friend feel hate hunger burning core every cell ask terrifying immortal hulk invader http r marvel comment bzlwe week comic june official eqtgddr w chip zdarsky carlos magno butch guice war ghost finale time run captain america save namor done ironheart http r marvel comment bzlwe week comic june official eqtgbbg w eve ewing luciano vecchio iq team chart nadia van dyne k unstoppable wasp swing chicago visit ironheart neither expecting zombie invasion two girl genius put head together figure turning ordinary chicagoans walking dead read find true believer major x http r marvel comment bzlwe week comic june official eqtg w rob liefeld brent peeples conclusion tale almost year making fate x istance rise x ential full identity major x punisher http r marvel comment bzlwe week comic june official eqtg jj w matthew rosenberg szymon kudranski baron zemo plan revealed even sinister believed frank zemo war extends beyond bagalia stake get higher clock ticking line frank cross stop zemo silver surfer black http r marvel comment bzlwe week comic june official eqtfzi w donny cates tradd moore spinning guardian galaxy almost entire galaxy defender blown black hole including silver surfer story end order fight back oblivion surfer fight save soul lose void follow sentinel spaceways journey change forever superstar donny cates venom guardian galaxy tradd moore new ghost rider venom spider man life story http r marvel comment bzlwe week comic june official eqtfx w chip zdarsky mark bagley real time life story spider man continues spider man life enters cold war longer cold peter parker return world gone mad let madness infect family superior spider man http r marvel comment bzlwe week comic june official eqtfv w christos gage lan medina war realm tie like rest america west coast overrun frost giant chaos otto octavius settle chaos win war realm single handedly well maybe single handedly need minion super minion recruit west coast avenger uh oh symbiote spider man http r marvel comment bzlwe week comic june official eqtft u w peter david greg land comic titan peter david greg land come third installment new spider man tale set original alien costume saga glimpsing strange ability spider man bizarre black suit mysterio determined uncover secret enigmatic ensemble secret peter parker even realized uncovering shameful secret black cat past mysterio may found blackmail necessary get close suit set felicia path misstep could result losing peter forever unbeatable squirrel girl http r marvel comment bzlwe week comic june official eqtfrhi w ryan north derek charm war realm tie historic team ratatoskr asgardian chaos squirrel god squirrel girl midgardian squirrel uh girl gone well well technically true gone well ratatoskr human identity play team technically saved anyone yet probably never squirrel girl realizes ratatoskr playing rule split one girl save north america one asgardian chaos squirrel god machination going beneath surface answer question plus fight plus friendship plus frost giant plus public domain poetry await alluring sentence one typed checked venom http r marvel comment bzlwe week comic june official eqtfnpq w cullen bunn iban coello war realm tie battered bleeding end rope malekith war witch henchman threaten overwhelm eddie brock meanwhile eddie still year old dylan tow need keep alive x force http r marvel comment bzlwe week comic june official eqtfm x w ed brisson dylan burnett x force split stryfe hard place clock ticking plus return rachel summer trade collection http r marvel comment bzlwe week comic june official eqte tw avenger jason aaron vol final host trade paperback http marvel comic collection avenger jason aaron vol final host trade paperback marvel masterworks spectacular spider man vol hardcover http marvel comic collection marvel masterworks spectacular spider man vol hardcover hulk loeb amp mcguinness omnibus hardcover http marvel comic collection hulk loeb mcguinness omnibus hardcover spider man love mary jane real thing trade paperback http marvel comic collection spider man love mary jane real thing trade paperback hulkverines trade paperback http marvel comic collection hulkverines trade paperback marvel monograph art humberto ramos spider man trade paperback http marvel comic collection marvel monograph art humberto ramos spider man trade paperback new mutant abnett amp lanning complete collection vol trade paperback http marvel comic collection new mutant abnett lanning complete collection vol trade paperback avenger road home trade paperback http marvel comic collection avenger road home trade paperback spotlight release week poll result last week poll http imgur wmx htn png big winner week anticipated new release silver surfer black followed immortal hulk amazing spider man click vote next week anticipated release http surveymonkey r gh rycp previous spotlight release war realm http redd bwq wi immortal hulk http redd buek p avenger http redd brp l giant man http redd bostgv invader http redd bm fnn war realm http redd bjhgwd amazing spider man http redd bguzu war realm http redd beaz general discussion http r marvel comment bzlwe week comic june official eqte fx could take dc character put marvel comic would would fit',\n",
       " 'sold',\n",
       " 'would pay civil war ii',\n",
       " 'keanu reef namor concept poster']"
      ]
     },
     "execution_count": 15,
     "metadata": {},
     "output_type": "execute_result"
    }
   ],
   "source": [
    "#check for the outcome\n",
    "clean_text[0:5]"
   ]
  },
  {
   "cell_type": "code",
   "execution_count": 16,
   "metadata": {},
   "outputs": [],
   "source": [
    "#assign target and result to y and X then carry out train test split\n",
    "y = df['subreddit']\n",
    "X = clean_text"
   ]
  },
  {
   "cell_type": "code",
   "execution_count": 17,
   "metadata": {},
   "outputs": [],
   "source": [
    "X_train, X_test, y_train, y_test = train_test_split(X, y, random_state=42)"
   ]
  },
  {
   "cell_type": "markdown",
   "metadata": {},
   "source": [
    "### Baseline accuracy "
   ]
  },
  {
   "cell_type": "code",
   "execution_count": 18,
   "metadata": {},
   "outputs": [
    {
     "data": {
      "text/plain": [
       "1    0.500858\n",
       "0    0.499142\n",
       "Name: subreddit, dtype: float64"
      ]
     },
     "execution_count": 18,
     "metadata": {},
     "output_type": "execute_result"
    }
   ],
   "source": [
    "y.value_counts(normalize=True)"
   ]
  },
  {
   "cell_type": "markdown",
   "metadata": {},
   "source": [
    "## C.Modeling \n",
    "a. Utilise pipeline to include 2 stages in modelling which are vectorizing and modeling.<br>\n",
    "b. Compare the accuracy for LogisticRegression and MultinomialNB.<br>"
   ]
  },
  {
   "cell_type": "markdown",
   "metadata": {},
   "source": [
    "#### CountVectorizer and LogisticRegression"
   ]
  },
  {
   "cell_type": "code",
   "execution_count": 19,
   "metadata": {},
   "outputs": [],
   "source": [
    "#pipeline for LogisticRegression\n",
    "pipe = Pipeline([('cvec', CountVectorizer()),\n",
    "                 ('lr', LogisticRegression())\n",
    "                ])"
   ]
  },
  {
   "cell_type": "markdown",
   "metadata": {},
   "source": [
    "i. First we will evaluate the model using cross validation.<br>\n",
    "ii. Then we will use predefined parameter to evaluate the model.<br>\n",
    "iii. Tune the hyperparameters using GridSearchCV and get the score."
   ]
  },
  {
   "cell_type": "code",
   "execution_count": 20,
   "metadata": {},
   "outputs": [
    {
     "name": "stderr",
     "output_type": "stream",
     "text": [
      "/Users/chowmun/anaconda3/lib/python3.6/site-packages/sklearn/linear_model/logistic.py:433: FutureWarning: Default solver will be changed to 'lbfgs' in 0.22. Specify a solver to silence this warning.\n",
      "  FutureWarning)\n"
     ]
    },
    {
     "data": {
      "text/plain": [
       "0.9084956317301831"
      ]
     },
     "execution_count": 20,
     "metadata": {},
     "output_type": "execute_result"
    }
   ],
   "source": [
    "#i. Evaluate how your model will perform on unseen data\n",
    "cross_val_score(pipe, X_train, y_train, cv=5).mean() "
   ]
  },
  {
   "cell_type": "code",
   "execution_count": 21,
   "metadata": {},
   "outputs": [
    {
     "name": "stdout",
     "output_type": "stream",
     "text": [
      "0.9954233409610984\n",
      "0.9315068493150684\n"
     ]
    },
    {
     "name": "stderr",
     "output_type": "stream",
     "text": [
      "/Users/chowmun/anaconda3/lib/python3.6/site-packages/sklearn/linear_model/logistic.py:433: FutureWarning: Default solver will be changed to 'lbfgs' in 0.22. Specify a solver to silence this warning.\n",
      "  FutureWarning)\n"
     ]
    }
   ],
   "source": [
    "# ii. Fit your model\n",
    "pipe.fit(X_train, y_train)\n",
    "\n",
    "# Training score\n",
    "print(pipe.score(X_train, y_train))\n",
    "\n",
    "# Test score\n",
    "print(pipe.score(X_test, y_test))"
   ]
  },
  {
   "cell_type": "code",
   "execution_count": 22,
   "metadata": {},
   "outputs": [
    {
     "data": {
      "text/plain": [
       "dict_keys(['memory', 'steps', 'cvec', 'lr', 'cvec__analyzer', 'cvec__binary', 'cvec__decode_error', 'cvec__dtype', 'cvec__encoding', 'cvec__input', 'cvec__lowercase', 'cvec__max_df', 'cvec__max_features', 'cvec__min_df', 'cvec__ngram_range', 'cvec__preprocessor', 'cvec__stop_words', 'cvec__strip_accents', 'cvec__token_pattern', 'cvec__tokenizer', 'cvec__vocabulary', 'lr__C', 'lr__class_weight', 'lr__dual', 'lr__fit_intercept', 'lr__intercept_scaling', 'lr__max_iter', 'lr__multi_class', 'lr__n_jobs', 'lr__penalty', 'lr__random_state', 'lr__solver', 'lr__tol', 'lr__verbose', 'lr__warm_start'])"
      ]
     },
     "execution_count": 22,
     "metadata": {},
     "output_type": "execute_result"
    }
   ],
   "source": [
    "# iii. List the adjustable parameters\n",
    "pipe.get_params().keys()"
   ]
  },
  {
   "cell_type": "code",
   "execution_count": 23,
   "metadata": {},
   "outputs": [],
   "source": [
    "pipe_params = {\n",
    "    'cvec__max_features': [1500, 2000],\n",
    "    'cvec__min_df': [1, 2],\n",
    "    'cvec__max_df': [.5, .6, .7, .8],\n",
    "    'cvec__ngram_range': [(1,1), (1,2)]\n",
    "}\n",
    "gs = GridSearchCV(pipe, param_grid=pipe_params, cv=5)"
   ]
  },
  {
   "cell_type": "code",
   "execution_count": 24,
   "metadata": {},
   "outputs": [
    {
     "name": "stderr",
     "output_type": "stream",
     "text": [
      "/Users/chowmun/anaconda3/lib/python3.6/site-packages/sklearn/linear_model/logistic.py:433: FutureWarning: Default solver will be changed to 'lbfgs' in 0.22. Specify a solver to silence this warning.\n",
      "  FutureWarning)\n"
     ]
    },
    {
     "name": "stdout",
     "output_type": "stream",
     "text": [
      "CPU times: user 45.2 s, sys: 939 ms, total: 46.1 s\n",
      "Wall time: 51.2 s\n",
      "0.9069412662090007\n"
     ]
    },
    {
     "data": {
      "text/plain": [
       "{'cvec__max_df': 0.5,\n",
       " 'cvec__max_features': 2000,\n",
       " 'cvec__min_df': 2,\n",
       " 'cvec__ngram_range': (1, 1)}"
      ]
     },
     "execution_count": 24,
     "metadata": {},
     "output_type": "execute_result"
    }
   ],
   "source": [
    "%time gs.fit(X_train, y_train)\n",
    "print(gs.best_score_)\n",
    "gs.best_params_"
   ]
  },
  {
   "cell_type": "code",
   "execution_count": 25,
   "metadata": {},
   "outputs": [
    {
     "data": {
      "text/plain": [
       "0.9223744292237442"
      ]
     },
     "execution_count": 25,
     "metadata": {},
     "output_type": "execute_result"
    }
   ],
   "source": [
    "gs.score(X_test, y_test)"
   ]
  },
  {
   "cell_type": "code",
   "execution_count": 26,
   "metadata": {},
   "outputs": [
    {
     "data": {
      "text/plain": [
       "0.9893211289092296"
      ]
     },
     "execution_count": 26,
     "metadata": {},
     "output_type": "execute_result"
    }
   ],
   "source": [
    "gs.score(X_train, y_train)"
   ]
  },
  {
   "cell_type": "markdown",
   "metadata": {},
   "source": [
    "#### CountVectorizer and MultinomialNB"
   ]
  },
  {
   "cell_type": "code",
   "execution_count": 27,
   "metadata": {},
   "outputs": [],
   "source": [
    "#pipeline for Mulitnomial Naive Bayers\n",
    "pipe2 = Pipeline([('cvec', CountVectorizer()),\n",
    "                 ('nb', MultinomialNB())\n",
    "                ])"
   ]
  },
  {
   "cell_type": "markdown",
   "metadata": {},
   "source": [
    "Multinomial Naive Bayes classifier is suitable for classification with discrete features.<br>\n",
    "i. Evaluate the model using cross validation.<br>\n",
    "ii. Evaluate the model using default parameters.<br>\n",
    "iii. Tune the hyperparameters using GridSearchCV and get the score."
   ]
  },
  {
   "cell_type": "code",
   "execution_count": 28,
   "metadata": {},
   "outputs": [
    {
     "data": {
      "text/plain": [
       "0.9054276840913709"
      ]
     },
     "execution_count": 28,
     "metadata": {},
     "output_type": "execute_result"
    }
   ],
   "source": [
    "# i. Evaluation using cross val score\n",
    "cross_val_score(pipe2, X_train, y_train, cv=5).mean() "
   ]
  },
  {
   "cell_type": "code",
   "execution_count": 29,
   "metadata": {},
   "outputs": [
    {
     "name": "stdout",
     "output_type": "stream",
     "text": [
      "0.9679633867276888\n",
      "0.908675799086758\n"
     ]
    }
   ],
   "source": [
    "# ii. Fit your model\n",
    "pipe2.fit(X_train, y_train)\n",
    "\n",
    "# Training score\n",
    "print(pipe2.score(X_train, y_train))\n",
    "\n",
    "# Test score\n",
    "print(pipe2.score(X_test, y_test))"
   ]
  },
  {
   "cell_type": "code",
   "execution_count": 30,
   "metadata": {},
   "outputs": [
    {
     "data": {
      "text/plain": [
       "dict_keys(['memory', 'steps', 'cvec', 'nb', 'cvec__analyzer', 'cvec__binary', 'cvec__decode_error', 'cvec__dtype', 'cvec__encoding', 'cvec__input', 'cvec__lowercase', 'cvec__max_df', 'cvec__max_features', 'cvec__min_df', 'cvec__ngram_range', 'cvec__preprocessor', 'cvec__stop_words', 'cvec__strip_accents', 'cvec__token_pattern', 'cvec__tokenizer', 'cvec__vocabulary', 'nb__alpha', 'nb__class_prior', 'nb__fit_prior'])"
      ]
     },
     "execution_count": 30,
     "metadata": {},
     "output_type": "execute_result"
    }
   ],
   "source": [
    "#iii. List the adjustable hyperparameters\n",
    "pipe2.get_params().keys()"
   ]
  },
  {
   "cell_type": "code",
   "execution_count": 31,
   "metadata": {},
   "outputs": [],
   "source": [
    "pipe_params2 = {\n",
    "    'cvec__max_features': [1500, 2000],\n",
    "    'cvec__min_df': [1, 2],\n",
    "    'cvec__max_df': [.5, .6, .7, .8],\n",
    "    'cvec__ngram_range': [(1,1), (1,2)],\n",
    "}\n",
    "gs2 = GridSearchCV(pipe2, param_grid=pipe_params2, cv=5)"
   ]
  },
  {
   "cell_type": "code",
   "execution_count": 32,
   "metadata": {},
   "outputs": [
    {
     "name": "stdout",
     "output_type": "stream",
     "text": [
      "CPU times: user 33.8 s, sys: 537 ms, total: 34.4 s\n",
      "Wall time: 35.3 s\n",
      "0.9038901601830663\n"
     ]
    },
    {
     "data": {
      "text/plain": [
       "{'cvec__max_df': 0.5,\n",
       " 'cvec__max_features': 2000,\n",
       " 'cvec__min_df': 2,\n",
       " 'cvec__ngram_range': (1, 1)}"
      ]
     },
     "execution_count": 32,
     "metadata": {},
     "output_type": "execute_result"
    }
   ],
   "source": [
    "%time gs2.fit(X_train, y_train)\n",
    "print(gs2.best_score_)\n",
    "gs2.best_params_"
   ]
  },
  {
   "cell_type": "code",
   "execution_count": 33,
   "metadata": {},
   "outputs": [
    {
     "data": {
      "text/plain": [
       "0.8972602739726028"
      ]
     },
     "execution_count": 33,
     "metadata": {},
     "output_type": "execute_result"
    }
   ],
   "source": [
    "gs2.score(X_test, y_test)"
   ]
  },
  {
   "cell_type": "code",
   "execution_count": 34,
   "metadata": {},
   "outputs": [
    {
     "data": {
      "text/plain": [
       "0.938977879481312"
      ]
     },
     "execution_count": 34,
     "metadata": {},
     "output_type": "execute_result"
    }
   ],
   "source": [
    "gs2.score(X_train, y_train)"
   ]
  },
  {
   "cell_type": "code",
   "execution_count": null,
   "metadata": {},
   "outputs": [],
   "source": []
  },
  {
   "cell_type": "markdown",
   "metadata": {},
   "source": [
    "## D.Model Evaluation \n",
    "Createa a function to plot the confusion table for the data."
   ]
  },
  {
   "cell_type": "code",
   "execution_count": 35,
   "metadata": {},
   "outputs": [],
   "source": [
    "def c_matrix(model, X_test):\n",
    "    model.fit(X_train, y_train) \n",
    "    y_pred = model.predict(X_test)            # calculate predictions\n",
    "    cm = confusion_matrix(y_test, y_pred)     # defining the confusion matrix\n",
    "    tn, fp, fn, tp = cm.ravel()               # assigning the elements of the confusion matrix to variables\n",
    "    \n",
    "    return pd.DataFrame(cm, \n",
    "                        columns = ['Pred Marvel','Pred DC'], \n",
    "                        index = ['Act Marvel', 'Act DC'])"
   ]
  },
  {
   "cell_type": "markdown",
   "metadata": {},
   "source": [
    "#### Confusion table:\n",
    "In our context:<br>\n",
    "a.True Positive/Negative means the model predicts correctly the post is from subreddit Marvel/DC.<br>\n",
    "b.False Positive/Negative means the model wrongly predicts the post is from subreddit Marvel/DC."
   ]
  },
  {
   "cell_type": "code",
   "execution_count": 36,
   "metadata": {},
   "outputs": [
    {
     "name": "stderr",
     "output_type": "stream",
     "text": [
      "/Users/chowmun/anaconda3/lib/python3.6/site-packages/sklearn/linear_model/logistic.py:433: FutureWarning: Default solver will be changed to 'lbfgs' in 0.22. Specify a solver to silence this warning.\n",
      "  FutureWarning)\n"
     ]
    },
    {
     "data": {
      "text/html": [
       "<div>\n",
       "<style scoped>\n",
       "    .dataframe tbody tr th:only-of-type {\n",
       "        vertical-align: middle;\n",
       "    }\n",
       "\n",
       "    .dataframe tbody tr th {\n",
       "        vertical-align: top;\n",
       "    }\n",
       "\n",
       "    .dataframe thead th {\n",
       "        text-align: right;\n",
       "    }\n",
       "</style>\n",
       "<table border=\"1\" class=\"dataframe\">\n",
       "  <thead>\n",
       "    <tr style=\"text-align: right;\">\n",
       "      <th></th>\n",
       "      <th>Pred Marvel</th>\n",
       "      <th>Pred DC</th>\n",
       "    </tr>\n",
       "  </thead>\n",
       "  <tbody>\n",
       "    <tr>\n",
       "      <th>Act Marvel</th>\n",
       "      <td>192</td>\n",
       "      <td>21</td>\n",
       "    </tr>\n",
       "    <tr>\n",
       "      <th>Act DC</th>\n",
       "      <td>9</td>\n",
       "      <td>216</td>\n",
       "    </tr>\n",
       "  </tbody>\n",
       "</table>\n",
       "</div>"
      ],
      "text/plain": [
       "            Pred Marvel  Pred DC\n",
       "Act Marvel          192       21\n",
       "Act DC                9      216"
      ]
     },
     "execution_count": 36,
     "metadata": {},
     "output_type": "execute_result"
    }
   ],
   "source": [
    "c_matrix(pipe, X_test) #LogisticRegression"
   ]
  },
  {
   "cell_type": "code",
   "execution_count": 37,
   "metadata": {},
   "outputs": [
    {
     "data": {
      "text/html": [
       "<div>\n",
       "<style scoped>\n",
       "    .dataframe tbody tr th:only-of-type {\n",
       "        vertical-align: middle;\n",
       "    }\n",
       "\n",
       "    .dataframe tbody tr th {\n",
       "        vertical-align: top;\n",
       "    }\n",
       "\n",
       "    .dataframe thead th {\n",
       "        text-align: right;\n",
       "    }\n",
       "</style>\n",
       "<table border=\"1\" class=\"dataframe\">\n",
       "  <thead>\n",
       "    <tr style=\"text-align: right;\">\n",
       "      <th></th>\n",
       "      <th>Pred Marvel</th>\n",
       "      <th>Pred DC</th>\n",
       "    </tr>\n",
       "  </thead>\n",
       "  <tbody>\n",
       "    <tr>\n",
       "      <th>Act Marvel</th>\n",
       "      <td>205</td>\n",
       "      <td>8</td>\n",
       "    </tr>\n",
       "    <tr>\n",
       "      <th>Act DC</th>\n",
       "      <td>32</td>\n",
       "      <td>193</td>\n",
       "    </tr>\n",
       "  </tbody>\n",
       "</table>\n",
       "</div>"
      ],
      "text/plain": [
       "            Pred Marvel  Pred DC\n",
       "Act Marvel          205        8\n",
       "Act DC               32      193"
      ]
     },
     "execution_count": 37,
     "metadata": {},
     "output_type": "execute_result"
    }
   ],
   "source": [
    "c_matrix(pipe2, X_test) #MultinomialNB"
   ]
  },
  {
   "cell_type": "markdown",
   "metadata": {},
   "source": [
    "For this case, False Postive(FP) and False Negative(FN) are consider as wrongly classification of subreddit.<br>\n",
    "Both have the equal impact, so we need to have a model with high accuracy. <br>\n",
    "It seems like LogisticRegression done a better job with a lower number of FP and FN."
   ]
  },
  {
   "cell_type": "markdown",
   "metadata": {},
   "source": [
    "#### Classification Table"
   ]
  },
  {
   "cell_type": "code",
   "execution_count": 38,
   "metadata": {},
   "outputs": [],
   "source": [
    "#write a function for Classification Report\n",
    "def report(model, X_test):\n",
    "    model.fit(X_train, y_train) \n",
    "    y_pred = model.predict(X_test) \n",
    "    print('Classification Report')\n",
    "    print(classification_report(y_test, y_pred))"
   ]
  },
  {
   "cell_type": "code",
   "execution_count": 39,
   "metadata": {},
   "outputs": [
    {
     "name": "stdout",
     "output_type": "stream",
     "text": [
      "Classification Report\n",
      "              precision    recall  f1-score   support\n",
      "\n",
      "           0       0.96      0.90      0.93       213\n",
      "           1       0.91      0.96      0.94       225\n",
      "\n",
      "   micro avg       0.93      0.93      0.93       438\n",
      "   macro avg       0.93      0.93      0.93       438\n",
      "weighted avg       0.93      0.93      0.93       438\n",
      "\n"
     ]
    },
    {
     "name": "stderr",
     "output_type": "stream",
     "text": [
      "/Users/chowmun/anaconda3/lib/python3.6/site-packages/sklearn/linear_model/logistic.py:433: FutureWarning: Default solver will be changed to 'lbfgs' in 0.22. Specify a solver to silence this warning.\n",
      "  FutureWarning)\n"
     ]
    }
   ],
   "source": [
    "report(pipe, X_test)"
   ]
  },
  {
   "cell_type": "code",
   "execution_count": 40,
   "metadata": {},
   "outputs": [
    {
     "name": "stdout",
     "output_type": "stream",
     "text": [
      "Classification Report\n",
      "              precision    recall  f1-score   support\n",
      "\n",
      "           0       0.86      0.96      0.91       213\n",
      "           1       0.96      0.86      0.91       225\n",
      "\n",
      "   micro avg       0.91      0.91      0.91       438\n",
      "   macro avg       0.91      0.91      0.91       438\n",
      "weighted avg       0.91      0.91      0.91       438\n",
      "\n"
     ]
    }
   ],
   "source": [
    "report(pipe2, X_test)"
   ]
  },
  {
   "cell_type": "markdown",
   "metadata": {},
   "source": [
    "From both of the reports, we notice that LogisticRegression score higher in both accuracy and precision.<br>\n",
    "In average LogisticRegression is able to predict correctly 93% of the posts, which is 2% higher than nb and 43% higher than the baseline. <br>\n",
    "Then, the precision score for LogisticRegression is 93%. "
   ]
  },
  {
   "cell_type": "markdown",
   "metadata": {},
   "source": [
    "#### Receiver operating characteristic(ROC) curves"
   ]
  },
  {
   "cell_type": "code",
   "execution_count": 85,
   "metadata": {},
   "outputs": [
    {
     "name": "stderr",
     "output_type": "stream",
     "text": [
      "/Users/chowmun/anaconda3/lib/python3.6/site-packages/sklearn/linear_model/logistic.py:433: FutureWarning: Default solver will be changed to 'lbfgs' in 0.22. Specify a solver to silence this warning.\n",
      "  FutureWarning)\n"
     ]
    },
    {
     "data": {
      "image/png": "[encoded data removed]",
      "text/plain": [
       "<matplotlib.figure.Figure at 0x1a1eeb6048>"
      ]
     },
     "metadata": {},
     "output_type": "display_data"
    }
   ],
   "source": [
    "plt.figure(figsize=(15,8))\n",
    "\n",
    "pipe.fit(X_train, y_train)\n",
    "y_preds = pipe.predict_proba(X_test)\n",
    "#y_preds2 = pipe2.predict_proba(X_test)\n",
    "# take the second column because the classifier outputs scores for the 0 class as well\n",
    "preds = y_preds[:,1]\n",
    "#preds2 = y_preds2[:,1]\n",
    "\n",
    "# fpr means false-positive-rate\n",
    "# tpr means true-positive-rate\n",
    "fpr, tpr, _ = metrics.roc_curve(y_test, preds)\n",
    "#fpr2, tpr2, _ = metrics.roc_curve(y_test, preds2)\n",
    "auc_score = metrics.auc(fpr, tpr)\n",
    "#auc_score2 = metrics.auc(fpr2, tpr2)\n",
    "\n",
    "plt.title('ROC Curve')\n",
    "#plt.plot(fpr, tpr, label='LogisticRegression')\n",
    "plt.plot(fpr, tpr, label='AUC = {:.2f}'.format(auc_score))\n",
    "\n",
    "# it's helpful to add a diagonal to indicate threshold\n",
    "plt.plot([0,1],[0,1],'r--', label='Baseline')\n",
    "\n",
    "plt.xlim([-0.1,1.1])\n",
    "plt.ylim([-0.1,1.1])\n",
    "plt.ylabel('True Positive Rate')\n",
    "plt.xlabel('False Positive Rate')\n",
    "\n",
    "plt.legend(loc='lower right')\n",
    "plt.show()"
   ]
  },
  {
   "cell_type": "markdown",
   "metadata": {},
   "source": [
    "The performance of a classification model at all classification thresholds can be checked by using ROC. <br>\n",
    "The ROC curve is plotted with TPR against the FPR.<br>\n",
    "It shows the tradeoff between sensitivity and specificity.<br>\n",
    "The closer the curve follows the left-hand border and then the top border of the ROC space, the more accurate the test.<br>\n",
    "As shown in the graph, our model done a pretty good job."
   ]
  },
  {
   "cell_type": "code",
   "execution_count": null,
   "metadata": {},
   "outputs": [],
   "source": []
  },
  {
   "cell_type": "code",
   "execution_count": 47,
   "metadata": {},
   "outputs": [],
   "source": [
    "#to access the model in pipeline, when need to access it individually\n",
    "step1 = pipe.named_steps['cvec']\n",
    "step2 = pipe.named_steps['lr']"
   ]
  },
  {
   "cell_type": "code",
   "execution_count": 59,
   "metadata": {},
   "outputs": [
    {
     "data": {
      "text/html": [
       "<div>\n",
       "<style scoped>\n",
       "    .dataframe tbody tr th:only-of-type {\n",
       "        vertical-align: middle;\n",
       "    }\n",
       "\n",
       "    .dataframe tbody tr th {\n",
       "        vertical-align: top;\n",
       "    }\n",
       "\n",
       "    .dataframe thead th {\n",
       "        text-align: right;\n",
       "    }\n",
       "</style>\n",
       "<table border=\"1\" class=\"dataframe\">\n",
       "  <thead>\n",
       "    <tr style=\"text-align: right;\">\n",
       "      <th></th>\n",
       "      <th>0</th>\n",
       "    </tr>\n",
       "  </thead>\n",
       "  <tbody>\n",
       "    <tr>\n",
       "      <th>marvel</th>\n",
       "      <td>2.241518</td>\n",
       "    </tr>\n",
       "    <tr>\n",
       "      <th>spider</th>\n",
       "      <td>1.640235</td>\n",
       "    </tr>\n",
       "    <tr>\n",
       "      <th>avenger</th>\n",
       "      <td>1.559399</td>\n",
       "    </tr>\n",
       "    <tr>\n",
       "      <th>mcu</th>\n",
       "      <td>1.521232</td>\n",
       "    </tr>\n",
       "    <tr>\n",
       "      <th>men</th>\n",
       "      <td>1.478160</td>\n",
       "    </tr>\n",
       "    <tr>\n",
       "      <th>phoenix</th>\n",
       "      <td>1.322235</td>\n",
       "    </tr>\n",
       "    <tr>\n",
       "      <th>spiderman</th>\n",
       "      <td>1.169898</td>\n",
       "    </tr>\n",
       "    <tr>\n",
       "      <th>thanos</th>\n",
       "      <td>1.053786</td>\n",
       "    </tr>\n",
       "    <tr>\n",
       "      <th>war</th>\n",
       "      <td>1.052786</td>\n",
       "    </tr>\n",
       "    <tr>\n",
       "      <th>endgame</th>\n",
       "      <td>0.971171</td>\n",
       "    </tr>\n",
       "  </tbody>\n",
       "</table>\n",
       "</div>"
      ],
      "text/plain": [
       "                  0\n",
       "marvel     2.241518\n",
       "spider     1.640235\n",
       "avenger    1.559399\n",
       "mcu        1.521232\n",
       "men        1.478160\n",
       "phoenix    1.322235\n",
       "spiderman  1.169898\n",
       "thanos     1.053786\n",
       "war        1.052786\n",
       "endgame    0.971171"
      ]
     },
     "execution_count": 59,
     "metadata": {},
     "output_type": "execute_result"
    }
   ],
   "source": [
    "#get the feature name \n",
    "columns=(step1.get_feature_names())\n",
    "\n",
    "#form the df by combining features name and the coef\n",
    "coef = pd.DataFrame(step2.coef_, columns=columns)\n",
    "marvel_coef = coef.T.sort_values(by = 0, ascending=False) #by 0 means the by index a\n",
    "\n",
    "marvel_coef.head(10)"
   ]
  },
  {
   "cell_type": "code",
   "execution_count": 67,
   "metadata": {},
   "outputs": [
    {
     "data": {
      "text/html": [
       "<div>\n",
       "<style scoped>\n",
       "    .dataframe tbody tr th:only-of-type {\n",
       "        vertical-align: middle;\n",
       "    }\n",
       "\n",
       "    .dataframe tbody tr th {\n",
       "        vertical-align: top;\n",
       "    }\n",
       "\n",
       "    .dataframe thead th {\n",
       "        text-align: right;\n",
       "    }\n",
       "</style>\n",
       "<table border=\"1\" class=\"dataframe\">\n",
       "  <thead>\n",
       "    <tr style=\"text-align: right;\">\n",
       "      <th></th>\n",
       "      <th>0</th>\n",
       "    </tr>\n",
       "  </thead>\n",
       "  <tbody>\n",
       "    <tr>\n",
       "      <th>dc</th>\n",
       "      <td>-2.693076</td>\n",
       "    </tr>\n",
       "    <tr>\n",
       "      <th>batman</th>\n",
       "      <td>-2.612937</td>\n",
       "    </tr>\n",
       "    <tr>\n",
       "      <th>excerpt</th>\n",
       "      <td>-2.288705</td>\n",
       "    </tr>\n",
       "    <tr>\n",
       "      <th>artwork</th>\n",
       "      <td>-2.147090</td>\n",
       "    </tr>\n",
       "    <tr>\n",
       "      <th>swamp</th>\n",
       "      <td>-1.715658</td>\n",
       "    </tr>\n",
       "    <tr>\n",
       "      <th>superman</th>\n",
       "      <td>-1.486024</td>\n",
       "    </tr>\n",
       "    <tr>\n",
       "      <th>joker</th>\n",
       "      <td>-1.456853</td>\n",
       "    </tr>\n",
       "    <tr>\n",
       "      <th>plastic</th>\n",
       "      <td>-1.329635</td>\n",
       "    </tr>\n",
       "    <tr>\n",
       "      <th>justice</th>\n",
       "      <td>-1.289673</td>\n",
       "    </tr>\n",
       "    <tr>\n",
       "      <th>leviathan</th>\n",
       "      <td>-1.200366</td>\n",
       "    </tr>\n",
       "  </tbody>\n",
       "</table>\n",
       "</div>"
      ],
      "text/plain": [
       "                  0\n",
       "dc        -2.693076\n",
       "batman    -2.612937\n",
       "excerpt   -2.288705\n",
       "artwork   -2.147090\n",
       "swamp     -1.715658\n",
       "superman  -1.486024\n",
       "joker     -1.456853\n",
       "plastic   -1.329635\n",
       "justice   -1.289673\n",
       "leviathan -1.200366"
      ]
     },
     "execution_count": 67,
     "metadata": {},
     "output_type": "execute_result"
    }
   ],
   "source": [
    "dc_coef = coef.T.sort_values(by = 0, ascending=True)\n",
    "\n",
    "dc_coef.head(10)"
   ]
  },
  {
   "cell_type": "markdown",
   "metadata": {},
   "source": [
    "For a one unit increase in the word 'marvel', the probability of a reddit post being an 'Marvel' subreddit increases by 2.24 times.<br>\n",
    "while for a one unit increase in the world 'dc', the probablity of a reddit post being an 'Marvel' subreddit decreases by 2.69 times.<br>\n",
    "The features shown are the important words used by NLP in identify the subreddit of a post."
   ]
  },
  {
   "cell_type": "markdown",
   "metadata": {},
   "source": [
    "## E.Conclusion and Recommendation"
   ]
  },
  {
   "cell_type": "markdown",
   "metadata": {},
   "source": [
    "1. Some of the posts contains only a few words and it is hard for the model to predict the outcome accurately. <br>\n",
    "2. The model performs better under LogisticRegression with the average accuracy of 0.93 and average precision of 0.93. It is performs far more better from the baseline.<br>\n",
    "3. Given our preliminary findings we would recommend that the Reddit data science team move forward with the LogisitcRegression. \n",
    "4. In future, we could explore in the classification of subreddit with the pictures posted in the post as one of the feature.  "
   ]
  },
  {
   "cell_type": "code",
   "execution_count": null,
   "metadata": {},
   "outputs": [],
   "source": []
  }
 ],
 "metadata": {
  "kernelspec": {
   "display_name": "Python 3",
   "language": "python",
   "name": "python3"
  },
  "language_info": {
   "codemirror_mode": {
    "name": "ipython",
    "version": 3
   },
   "file_extension": ".py",
   "mimetype": "text/x-python",
   "name": "python",
   "nbconvert_exporter": "python",
   "pygments_lexer": "ipython3",
   "version": "3.6.4"
  }
 },
 "nbformat": 4,
 "nbformat_minor": 2
}
